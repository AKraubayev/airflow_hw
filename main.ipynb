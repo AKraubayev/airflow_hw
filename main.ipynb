{
 "cells": [
  {
   "cell_type": "code",
   "execution_count": 7,
   "metadata": {
    "collapsed": true
   },
   "outputs": [],
   "source": [
    "import json\n",
    "import joblib\n",
    "import pandas as pd\n",
    "from pydantic import BaseModel\n",
    "import dill\n",
    "\n",
    "with open(\"data/models/cars_pipe_202303131023.pkl\", 'rb') as file:\n",
    "    model = dill.load(file)"
   ]
  },
  {
   "cell_type": "code",
   "execution_count": null,
   "outputs": [],
   "source": [
    "df = pd.read_csv(\"data/train/homework.csv\").drop('price_category', axis=1)\n"
   ],
   "metadata": {
    "collapsed": false
   }
  },
  {
   "cell_type": "code",
   "execution_count": null,
   "outputs": [],
   "source": [
    "types = {\n",
    "    \"int64\": 'int',\n",
    "    'float64': 'float'\n",
    "}\n",
    "for k, v in df.dtypes.items():\n",
    "    print(f'{k}: {types.get(str(v), \"str\")}')\n",
    "\n",
    "class Form(BaseModel):\n",
    "    id: int\n",
    "    url: str\n",
    "    region: str\n",
    "    region_url: str\n",
    "    price: int\n",
    "    year: float\n",
    "    manufacturer: str\n",
    "    model: str\n",
    "    fuel: str\n",
    "    odometer: float\n",
    "    title_status: str\n",
    "    transmission: str\n",
    "    image_url: str\n",
    "    description: str\n",
    "    state: str\n",
    "    lat: float\n",
    "    long: float\n",
    "    posting_date: str\n",
    "\n",
    "\n",
    "class predict(BaseModel):\n",
    "    id: int\n",
    "    model: str\n",
    "    price: int\n",
    "\n",
    "if __name__ == '__main__':\n",
    "    predict()"
   ],
   "metadata": {
    "collapsed": false
   }
  },
  {
   "cell_type": "code",
   "execution_count": null,
   "outputs": [],
   "source": [],
   "metadata": {
    "collapsed": false
   }
  }
 ],
 "metadata": {
  "kernelspec": {
   "display_name": "Python 3",
   "language": "python",
   "name": "python3"
  },
  "language_info": {
   "codemirror_mode": {
    "name": "ipython",
    "version": 2
   },
   "file_extension": ".py",
   "mimetype": "text/x-python",
   "name": "python",
   "nbconvert_exporter": "python",
   "pygments_lexer": "ipython2",
   "version": "2.7.6"
  }
 },
 "nbformat": 4,
 "nbformat_minor": 0
}
